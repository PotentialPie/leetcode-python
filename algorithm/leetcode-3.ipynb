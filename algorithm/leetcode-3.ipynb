{
 "cells": [
  {
   "cell_type": "markdown",
   "metadata": {},
   "source": [
    "### 3. Longest Substring Without Repeating Characters\n",
    "Given a string, find the length of the longest substring without repeating characters.\n",
    "\n",
    "**Example1:**\n",
    "\n",
    "```\n",
    "Input: \"abcabcbb\"\n",
    "Output: 3 \n",
    "Explanation: The answer is \"abc\", with the length of 3. \n",
    "```\n",
    "**Example2:**\n",
    "\n",
    "```\n",
    "Input: \"bbbbb\"\n",
    "Output: 1\n",
    "Explanation: The answer is \"b\", with the length of 1.\n",
    "```\n",
    "**Example3:**\n",
    "\n",
    "```\n",
    "Input: \"pwwkew\"\n",
    "Output: 3\n",
    "Explanation: The answer is \"wke\", with the length of 3. \n",
    "             Note that the answer must be a substring, \"pwke\" is a subsequence and not a substring.\n",
    "```\n",
    "\n",
    "**思路**\n",
    "- 定义一个字典，字表<key,value>中，代表最近的元素key，所在的indic。遍历字符数组，如果找到一个重复元素，则判断现在的head在这个重复元素之前还是之后，如果在之后，增更新字典中这个元素的indice；如果在之前，则令head为这个元素的indice+1。如果不是重复元素，则加入字典。"
   ]
  },
  {
   "cell_type": "code",
   "execution_count": 1,
   "metadata": {},
   "outputs": [],
   "source": [
    "class Solution:\n",
    "    def lengthOfLongestSubstring(self, s):\n",
    "        \"\"\"\n",
    "        :type s: str\n",
    "        :rtype: int\n",
    "        \"\"\"\n",
    "        chara_dict = {}\n",
    "        head = 0\n",
    "        max_len = 0\n",
    "        for tail in range(len(s)):\n",
    "            if s[tail] not in chara_dict or chara_dict[s[tail]] < head:\n",
    "                chara_dict[s[tail]] = tail\n",
    "                max_len < tail - head + 1:\n",
    "                    max_len = tail - head + 1\n",
    "            else:\n",
    "                #tail = i\n",
    "                head = chara_dict[s[tail]] + 1\n",
    "                chara_dict[s[tail]] = tail\n",
    "        return max_len"
   ]
  },
  {
   "cell_type": "code",
   "execution_count": 2,
   "metadata": {},
   "outputs": [
    {
     "name": "stdout",
     "output_type": "stream",
     "text": [
      "ans:  3\n",
      "ans:  1\n",
      "ans:  3\n"
     ]
    }
   ],
   "source": [
    "import time\n",
    "solution = Solution()\n",
    "\n",
    "print('ans: ',solution.lengthOfLongestSubstring('abcabcbb'))\n",
    "print('ans: ',solution.lengthOfLongestSubstring('bbbbb'))\n",
    "print('ans: ',solution.lengthOfLongestSubstring('pwwkew'))"
   ]
  },
  {
   "cell_type": "code",
   "execution_count": null,
   "metadata": {},
   "outputs": [],
   "source": []
  }
 ],
 "metadata": {
  "kernelspec": {
   "display_name": "Python 3",
   "language": "python",
   "name": "python3"
  },
  "language_info": {
   "codemirror_mode": {
    "name": "ipython",
    "version": 3
   },
   "file_extension": ".py",
   "mimetype": "text/x-python",
   "name": "python",
   "nbconvert_exporter": "python",
   "pygments_lexer": "ipython3",
   "version": "3.6.6"
  }
 },
 "nbformat": 4,
 "nbformat_minor": 2
}
