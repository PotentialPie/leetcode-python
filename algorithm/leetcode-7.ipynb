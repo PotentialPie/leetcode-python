{
 "cells": [
  {
   "cell_type": "markdown",
   "metadata": {},
   "source": [
    "### 7. Reverse Integer\n",
    "Given a 32-bit signed integer, reverse digits of an integer.\n",
    "\n",
    "**Example1:**\n",
    "\n",
    "```\n",
    "Input: 123\n",
    "Output: 321\n",
    "```\n",
    "\n",
    "**Example2:**\n",
    "\n",
    "```\n",
    "Input: -123\n",
    "Output: -321\n",
    "```\n",
    "\n",
    "**Example3:**\n",
    "\n",
    "```\n",
    "Input: 120\n",
    "Output: 21\n",
    "```\n",
    "\n",
    "**Note**\n",
    "Assume we are dealing with an environment which could only store integers within the 32-bit signed integer range: [−231,  231 − 1]. For the purpose of this problem, assume that your function returns 0 when the reversed integer overflows.\n",
    "\n",
    "**思路**\n",
    "直接通过python的int函数转换倒序的字符串即可，再通过str转回来，对于负数，可以先转换绝对值部分，再添加负号。\n",
    "\n",
    "**注意点**\n",
    "- 注意题目的边界32-bit，不管是正数还是负数都要考虑边界。\n",
    "- 转换后的结果也要考虑边界\n",
    "- [i:j:s]反转的使用，如果s<0，则i，j都为负数，从倒数开始算，例如s[-1:-len(s)-1:-1]就代表反转"
   ]
  },
  {
   "cell_type": "code",
   "execution_count": 1,
   "metadata": {},
   "outputs": [],
   "source": [
    "#coding=utf-8\n",
    "class Solution:\n",
    "    def reverse(self, x):\n",
    "        \"\"\"\n",
    "        :type x: int\n",
    "        :rtype: int\n",
    "        \"\"\"\n",
    "        print(-int(2**31))\n",
    "        #if x >= 2e31 or x < -2e31 or x == 0:\n",
    "        # 注意，2e31和2**31的区别\n",
    "        if x >= 2**31 or x <= -2**31 or x == 0:\n",
    "            return 0\n",
    "        str_x = str(x)\n",
    "        # [i:j:s]的意思是，从i到j，步长为s\n",
    "        # 如果s<0，则i，j都为负数，从倒数开始算\n",
    "        # 例如s[-1:-len(s)-1:-1]就代表反转\n",
    "        if x < 0:\n",
    "            result = int('-'+str(int(str_x[-1:-len(str_x):-1])))\n",
    "            # 千万别忘了，反转的记过也要判断啊！！！！！！\n",
    "            if result >= 2 ** 31 or result <= -2 ** 31 or result == 0:\n",
    "                return 0\n",
    "            return result\n",
    "        else:\n",
    "            result = int(str(int(str_x[-1:-len(str_x)-1:-1])))\n",
    "            if result >= 2 ** 31 or result <= -2 ** 31 or result == 0:\n",
    "                return 0\n",
    "            return result"
   ]
  },
  {
   "cell_type": "code",
   "execution_count": 2,
   "metadata": {},
   "outputs": [
    {
     "name": "stdout",
     "output_type": "stream",
     "text": [
      "-2147483648\n",
      "9646324\n"
     ]
    }
   ],
   "source": [
    "solution = Solution()\n",
    "print(solution.reverse(4236469))"
   ]
  },
  {
   "cell_type": "code",
   "execution_count": null,
   "metadata": {},
   "outputs": [],
   "source": []
  }
 ],
 "metadata": {
  "kernelspec": {
   "display_name": "Python 3",
   "language": "python",
   "name": "python3"
  },
  "language_info": {
   "codemirror_mode": {
    "name": "ipython",
    "version": 3
   },
   "file_extension": ".py",
   "mimetype": "text/x-python",
   "name": "python",
   "nbconvert_exporter": "python",
   "pygments_lexer": "ipython3",
   "version": "3.6.6"
  }
 },
 "nbformat": 4,
 "nbformat_minor": 2
}
