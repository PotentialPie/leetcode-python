{
 "cells": [
  {
   "cell_type": "markdown",
   "metadata": {},
   "source": [
    "### 120. Triangle\n",
    "\n",
    "Given a triangle, find the minimum path sum from top to bottom. Each step you may move to adjacent numbers on the row below.\n",
    "\n",
    "For example, given the following triangle\n",
    "\n",
    "**Example:**\n",
    "\n",
    "```\n",
    "[\n",
    "     [2],\n",
    "    [3,4],\n",
    "   [6,5,7],\n",
    "  [4,1,8,3]\n",
    "]\n",
    "```\n",
    "\n",
    "The minimum path sum from top to bottom is 11 (i.e., 2 + 3 + 5 + 1 = 11).\n",
    "\n",
    "**Note:**\n",
    "\n",
    "Bonus point if you are able to do this using only O(n) extra space, where n is the total number of rows in the triangle.\n",
    "\n",
    "**思路**\n",
    "\n",
    "主要思路还是只有两种，dfs和dp\n"
   ]
  },
  {
   "cell_type": "markdown",
   "metadata": {},
   "source": [
    "## DFS"
   ]
  },
  {
   "cell_type": "code",
   "execution_count": 1,
   "metadata": {},
   "outputs": [],
   "source": [
    "class Solution(object):\n",
    "    def minimumTotal(self, triangle):\n",
    "        \"\"\"\n",
    "        :type triangle: List[List[int]]\n",
    "        :rtype: int\n",
    "        \"\"\"\n",
    "        h = len(triangle)\n",
    "        INF = 999999999\n",
    "        dp = [[INF for j in range(len(triangle[i]))] for i in range(len(triangle))]\n",
    "        \n",
    "        def minpath(i, j):\n",
    "            if i == h - 1:\n",
    "                dp[i][j] = triangle[i][j]\n",
    "                return dp[i][j]\n",
    "            if dp[i][j] != INF:\n",
    "                return dp[i][j]\n",
    "            dp[i][j] = triangle[i][j] + min(minpath(i+1,j), minpath(i+1,j+1))\n",
    "            return dp[i][j]\n",
    "        \n",
    "        return minpath(0,0)       \n",
    "        "
   ]
  },
  {
   "cell_type": "code",
   "execution_count": 2,
   "metadata": {},
   "outputs": [
    {
     "name": "stdout",
     "output_type": "stream",
     "text": [
      "11\n"
     ]
    }
   ],
   "source": [
    "solution = Solution()\n",
    "t = [\n",
    "     [2],\n",
    "    [3,4],\n",
    "   [6,5,7],\n",
    "  [4,1,8,3]\n",
    "]\n",
    "print(solution.minimumTotal(t))"
   ]
  },
  {
   "cell_type": "markdown",
   "metadata": {},
   "source": [
    "## DP解法"
   ]
  },
  {
   "cell_type": "code",
   "execution_count": null,
   "metadata": {},
   "outputs": [],
   "source": [
    "class Solution(object):\n",
    "    def minimumTotal(self, triangle):\n",
    "        \"\"\"\n",
    "        :type triangle: List[List[int]]\n",
    "        :rtype: int\n",
    "        \"\"\"\n",
    "        if not len(triangle):\n",
    "            return 0\n",
    "        dp = triangle[-1]   \n",
    "        for i in range(len(triangle)-2,-1,-1):\n",
    "            for j in range(len(triangle[i])):\n",
    "                dp[j] = triangle[i][j] + min(dp[j],dp[j+1])\n",
    "        return dp[0]\n",
    "        "
   ]
  }
 ],
 "metadata": {
  "kernelspec": {
   "display_name": "Python 3",
   "language": "python",
   "name": "python3"
  },
  "language_info": {
   "codemirror_mode": {
    "name": "ipython",
    "version": 3
   },
   "file_extension": ".py",
   "mimetype": "text/x-python",
   "name": "python",
   "nbconvert_exporter": "python",
   "pygments_lexer": "ipython3",
   "version": "3.6.6"
  }
 },
 "nbformat": 4,
 "nbformat_minor": 2
}
