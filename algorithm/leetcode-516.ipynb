{
 "cells": [
  {
   "cell_type": "markdown",
   "metadata": {},
   "source": [
    "### 516. Longest Palindromic Subsequence\n",
    "Given a string s, find the longest palindromic subsequence's length in s. You may assume that the maximum length of s is 1000.\n",
    "\n",
    "**Example1:**\n",
    "\n",
    "```\n",
    "Input:\n",
    "\n",
    "\"bbbab\"\n",
    "Output:\n",
    "4\n",
    "```\n",
    "**Example2:**\n",
    "\n",
    "```\n",
    "Input:\n",
    "\n",
    "\"cbbd\"\n",
    "Output:\n",
    "2\n",
    "```\n",
    "\n",
    "**思路**\n",
    "\n",
    "这题和leetcode-5的区别是，回文串可以是不连续的。\n",
    "\n",
    "**注意点**\n",
    "\n",
    "dp_c的初始化方式:\n",
    "```\n",
    "# dp_c = [[0] * len_s] * len_s\n",
    "dp_c = [[0 for i in range(len_s)] for i in range(len_s)]\n",
    "```"
   ]
  },
  {
   "cell_type": "code",
   "execution_count": 4,
   "metadata": {},
   "outputs": [],
   "source": [
    "class Solution(object):\n",
    "    def longestPalindromeSubseq(self, s):\n",
    "        \"\"\"\n",
    "        :type s: str\n",
    "        :rtype: int\n",
    "        \"\"\"\n",
    "        if not s:\n",
    "            return 0\n",
    "        \n",
    "        dp = [[0 for j in range(len(s))] for i in range(len(s))]\n",
    "        ans = 1\n",
    "        \n",
    "        for i in range(len(s)):\n",
    "            dp[i][i] = 1\n",
    "            if i+1<len(s):\n",
    "                if s[i] == s[i+1]:\n",
    "                    dp[i][i+1] = 2\n",
    "                    ans = 2\n",
    "                else:\n",
    "                    dp[i][i+1] = 1\n",
    "        \n",
    "        for i in range(3, len(s)+1):\n",
    "            for j in range(0, len(s)-i+1):\n",
    "                if s[j] == s[j+i-1]:\n",
    "                    dp[j][j+i-1] = dp[j+1][j+i-2] + 2\n",
    "                else:\n",
    "                    dp[j][j+i-1] = max(dp[j+1][j+i-1], dp[j][j+i-2])\n",
    "                ans = max(ans, dp[j][j+i-1])\n",
    "        \n",
    "        return ans"
   ]
  },
  {
   "cell_type": "code",
   "execution_count": 6,
   "metadata": {},
   "outputs": [
    {
     "name": "stdout",
     "output_type": "stream",
     "text": [
      "ans : 0\n",
      "ans : 1\n",
      "ans : 1\n",
      "ans : 2\n",
      "ans : 3\n",
      "ans : 3\n",
      "ans : 4\n",
      "ans : 2\n",
      "ans : 7\n"
     ]
    }
   ],
   "source": [
    "import time\n",
    "solution = Solution()\n",
    "\n",
    "print('ans :', solution.longestPalindromeSubseq(''))\n",
    "print('ans :', solution.longestPalindromeSubseq('a'))\n",
    "print('ans :', solution.longestPalindromeSubseq('ab'))\n",
    "print('ans :', solution.longestPalindromeSubseq('bb'))\n",
    "print('ans :', solution.longestPalindromeSubseq('bab'))\n",
    "print('ans :', solution.longestPalindromeSubseq('abcda'))\n",
    "print('ans :', solution.longestPalindromeSubseq('bbbab'))\n",
    "print('ans :', solution.longestPalindromeSubseq('cbbd'))\n",
    "print('ans :', solution.longestPalindromeSubseq('abcdecba'))\n",
    "\n",
    "# TODO\n",
    "# Manacher Algorithm"
   ]
  },
  {
   "cell_type": "markdown",
   "metadata": {},
   "source": [
    "但是动态规划不一定是最合适的，因为动态规划会把所有的可能情况算一遍，所以反而用递归的方式会好一点"
   ]
  },
  {
   "cell_type": "code",
   "execution_count": 11,
   "metadata": {},
   "outputs": [],
   "source": [
    "class Solution(object):\n",
    "    def longestPalindromeSubseq(self, s):\n",
    "        \"\"\"\n",
    "        :type s: str\n",
    "        :rtype: int\n",
    "        \"\"\"\n",
    "        if not s:\n",
    "            return 0\n",
    "        \n",
    "        dp = [[0 for j in range(len(s))] for i in range(len(s))]\n",
    "        ans = 1\n",
    "        \n",
    "        def DFS(start, end):\n",
    "            if end < start:\n",
    "                return 0\n",
    "            if dp[start][end]:\n",
    "                return dp[start][end]\n",
    "            if start==end:\n",
    "                dp[start][end]=1\n",
    "                return dp[start][end]\n",
    "            elif s[start] == s[end]:\n",
    "                dp[start][end] = 2+ DFS(start+1,end-1)\n",
    "                return dp[start][end]\n",
    "            else:\n",
    "                dp[start][end] = max(DFS(start+1,end), DFS(start,end-1))\n",
    "                return dp[start][end]\n",
    "        DFS(0, len(s)-1)\n",
    "        ans = dp[0][len(s)-1]\n",
    "        return ans"
   ]
  },
  {
   "cell_type": "code",
   "execution_count": 12,
   "metadata": {},
   "outputs": [
    {
     "name": "stdout",
     "output_type": "stream",
     "text": [
      "ans : 0\n",
      "ans : 1\n",
      "ans : 1\n",
      "ans : 2\n",
      "ans : 3\n",
      "ans : 3\n",
      "ans : 4\n",
      "ans : 2\n",
      "ans : 7\n"
     ]
    }
   ],
   "source": [
    "import time\n",
    "solution = Solution()\n",
    "\n",
    "print('ans :', solution.longestPalindromeSubseq(''))\n",
    "print('ans :', solution.longestPalindromeSubseq('a'))\n",
    "print('ans :', solution.longestPalindromeSubseq('ab'))\n",
    "print('ans :', solution.longestPalindromeSubseq('bb'))\n",
    "print('ans :', solution.longestPalindromeSubseq('bab'))\n",
    "print('ans :', solution.longestPalindromeSubseq('abcda'))\n",
    "print('ans :', solution.longestPalindromeSubseq('bbbab'))\n",
    "print('ans :', solution.longestPalindromeSubseq('cbbd'))\n",
    "print('ans :', solution.longestPalindromeSubseq('abcdecba'))\n",
    "\n",
    "# TODO\n",
    "# Manacher Algorithm"
   ]
  },
  {
   "cell_type": "code",
   "execution_count": null,
   "metadata": {},
   "outputs": [],
   "source": []
  }
 ],
 "metadata": {
  "kernelspec": {
   "display_name": "Python 3",
   "language": "python",
   "name": "python3"
  },
  "language_info": {
   "codemirror_mode": {
    "name": "ipython",
    "version": 3
   },
   "file_extension": ".py",
   "mimetype": "text/x-python",
   "name": "python",
   "nbconvert_exporter": "python",
   "pygments_lexer": "ipython3",
   "version": "3.6.6"
  }
 },
 "nbformat": 4,
 "nbformat_minor": 2
}
