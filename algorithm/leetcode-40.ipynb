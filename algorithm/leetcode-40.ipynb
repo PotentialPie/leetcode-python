{
 "cells": [
  {
   "cell_type": "markdown",
   "metadata": {},
   "source": [
    "### 40. Combination Sum II\n",
    "Given a collection of candidate numbers (candidates) and a target number (target), find all unique combinations in candidates where the candidate numbers sums to target.\n",
    "\n",
    "Each number in candidates may only be used once in the combination.\n",
    "\n",
    "**Note:**\n",
    "\n",
    "All numbers (including target) will be positive integers.\n",
    "The solution set must not contain duplicate combinations.\n",
    "\n",
    "\n",
    "**Example1:**\n",
    "\n",
    "```\n",
    "Input: candidates = [10,1,2,7,6,1,5], target = 8,\n",
    "A solution set is:\n",
    "[\n",
    "  [1, 7],\n",
    "  [1, 2, 5],\n",
    "  [2, 6],\n",
    "  [1, 1, 6]\n",
    "]\n",
    "```\n",
    "\n",
    "**Example2:**\n",
    "\n",
    "```\n",
    "Input: candidates = [2,5,2,1,2], target = 5,\n",
    "A solution set is:\n",
    "[\n",
    "  [1,2,2],\n",
    "  [5]\n",
    "]\n",
    "```\n",
    "\n",
    "**思路**\n",
    "\n",
    "dfs解法\n"
   ]
  },
  {
   "cell_type": "code",
   "execution_count": 9,
   "metadata": {},
   "outputs": [],
   "source": [
    "#coding=utf-8\n",
    "class Solution:\n",
    "    def combinationSum2(self, candidates, target):\n",
    "        \"\"\"\n",
    "        :type candidates: List[int]\n",
    "        :type target: int\n",
    "        :rtype: List[List[int]]\n",
    "        \"\"\"\n",
    "        result_list = []\n",
    "\n",
    "        # 看看能不能加速咯\n",
    "        count_dict ={}\n",
    "        for item in candidates:\n",
    "            if item not in count_dict:\n",
    "                count_dict[item] = 1\n",
    "            else:\n",
    "                count_dict[item] += 1\n",
    "        unique_keys = list(count_dict.keys())\n",
    "        unique_keys.sort(reverse=True)\n",
    "\n",
    "        def dfs(index, left_sum, cur_result):\n",
    "            if index == len(unique_keys) and left_sum != 0:\n",
    "                return\n",
    "            if index == len(unique_keys) and left_sum == 0:\n",
    "                # 注意，如果不用这种方式[:]的话，append的是cur_result的引用，如果变化了，也会变化，所以要用副本\n",
    "                result_list.append(cur_result[:])\n",
    "                return\n",
    "            if left_sum > 0 and left_sum < unique_keys[-1]:\n",
    "                return\n",
    "            if left_sum < 0:\n",
    "                return\n",
    "\n",
    "            for i in range(0, min((left_sum // unique_keys[index]) + 1, count_dict[unique_keys[index]]+1)):\n",
    "                for dup in range(i):\n",
    "                    cur_result.append(unique_keys[index])\n",
    "                dfs(index + 1, left_sum - i * unique_keys[index], cur_result)\n",
    "                for dup in range(i):\n",
    "                    ##cur_result.remove(unique_keys[index])\n",
    "                    cur_result.pop()#这个会更快一点\n",
    "        # 别忘了调用啊\n",
    "        dfs(0, target, [])\n",
    "\n",
    "        return result_list\n",
    "\n",
    "\n"
   ]
  },
  {
   "cell_type": "code",
   "execution_count": 10,
   "metadata": {},
   "outputs": [
    {
     "name": "stdout",
     "output_type": "stream",
     "text": [
      "[[5, 3]]\n",
      "[]\n",
      "[[8]]\n",
      "[[5, 3]]\n",
      "[[7]]\n",
      "[[5, 3]]\n",
      "[[5, 2, 1], [6, 1, 1], [6, 2], [7, 1]]\n",
      "[[2, 2, 1], [5]]\n"
     ]
    }
   ],
   "source": [
    "solution = Solution()\n",
    "print(solution.combinationSum2(candidates = [5,3,7], target = 8))\n",
    "print(solution.combinationSum2(candidates = [1], target = 8))\n",
    "print(solution.combinationSum2(candidates = [8], target = 8))\n",
    "print(solution.combinationSum2(candidates = [2,3,5], target = 8))\n",
    "print(solution.combinationSum2(candidates = [2,3,6,7], target = 7))\n",
    "print(solution.combinationSum2(candidates = [2,3,5], target = 8))\n",
    "print(solution.combinationSum2(candidates = [10,1,2,7,6,1,5], target = 8))\n",
    "print(solution.combinationSum2(candidates = [2,5,2,1,2], target = 5))\n"
   ]
  },
  {
   "cell_type": "code",
   "execution_count": null,
   "metadata": {},
   "outputs": [],
   "source": []
  }
 ],
 "metadata": {
  "kernelspec": {
   "display_name": "Python 3",
   "language": "python",
   "name": "python3"
  },
  "language_info": {
   "codemirror_mode": {
    "name": "ipython",
    "version": 3
   },
   "file_extension": ".py",
   "mimetype": "text/x-python",
   "name": "python",
   "nbconvert_exporter": "python",
   "pygments_lexer": "ipython3",
   "version": "3.7.0"
  }
 },
 "nbformat": 4,
 "nbformat_minor": 2
}
