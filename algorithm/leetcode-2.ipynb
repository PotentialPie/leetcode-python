{
 "cells": [
  {
   "cell_type": "markdown",
   "metadata": {},
   "source": [
    "### 2. Add Two Numbers\n",
    "You are given two non-empty linked lists representing two non-negative integers. The digits are stored in reverse order and each of their nodes contain a single digit. Add the two numbers and return it as a linked list.\n",
    "\n",
    "You may assume the two numbers do not contain any leading zero, except the number 0 itself.\n",
    "\n",
    "**Example:**\n",
    "\n",
    "\n",
    "```\n",
    "Input: (2 -> 4 -> 3) + (5 -> 6 -> 4)\n",
    "Output: 7 -> 0 -> 8\n",
    "Explanation: 342 + 465 = 807.\n",
    "```\n",
    "\n",
    "**思路**\n",
    "\n",
    "这很简单，因为是左对齐，所以直接从两个链表头开始算就可以。\n",
    "考虑的边界：\n",
    "- 是两个链表可能为空或者单个为空\n",
    "- 两个链表不等长\n",
    "- 链表遍历完后还有进位"
   ]
  },
  {
   "cell_type": "code",
   "execution_count": 1,
   "metadata": {},
   "outputs": [],
   "source": [
    "# Definition for singly-linked list.\n",
    "# class ListNode:\n",
    "#     def __init__(self, x):\n",
    "#         self.val = x\n",
    "#         self.next = None\n",
    "\n",
    "class Solution:\n",
    "    def addTwoNumbers(self, l1, l2):\n",
    "        \"\"\"\n",
    "        :type l1: ListNode\n",
    "        :type l2: ListNode\n",
    "        :rtype: ListNode\n",
    "        \"\"\"\n",
    "        \n",
    "        # Generate the head node\n",
    "        cur_num = (l1.val + l2.val)%10\n",
    "        cur_to = int((l1.val + l2.val)/10)\n",
    "        head_none = ListNode(cur_num)\n",
    "        cur_node = head_none\n",
    "        l1 = l1.next\n",
    "        l2 = l2.next\n",
    "        while True:\n",
    "            if l1 is None and l2 is None:\n",
    "                if cur_to == 0:\n",
    "                    break\n",
    "                else:\n",
    "                    new_node = ListNode(cur_to)\n",
    "                    cur_node.next = new_node\n",
    "                    cur_node = new_node\n",
    "                    break\n",
    "            if l1 is None:\n",
    "                cur_num = (l2.val + cur_to)%10\n",
    "                cur_to = int((l2.val + cur_to)/10)\n",
    "                l2 = l2.next\n",
    "            elif l2 is None:\n",
    "                cur_num = (l1.val + cur_to)%10\n",
    "                cur_to = int((l1.val + cur_to)/10)\n",
    "                l1 = l1.next\n",
    "            else:   \n",
    "                cur_num = (l1.val + l2.val + cur_to)%10\n",
    "                cur_to = int((l1.val + l2.val + cur_to)/10)\n",
    "                l1 = l1.next\n",
    "                l2 = l2.next\n",
    "            new_node = ListNode(cur_num)\n",
    "            cur_node.next = new_node\n",
    "            cur_node = new_node\n",
    "        return head_none"
   ]
  }
 ],
 "metadata": {
  "kernelspec": {
   "display_name": "Python 3",
   "language": "python",
   "name": "python3"
  },
  "language_info": {
   "codemirror_mode": {
    "name": "ipython",
    "version": 3
   },
   "file_extension": ".py",
   "mimetype": "text/x-python",
   "name": "python",
   "nbconvert_exporter": "python",
   "pygments_lexer": "ipython3",
   "version": "3.6.6"
  }
 },
 "nbformat": 4,
 "nbformat_minor": 2
}
