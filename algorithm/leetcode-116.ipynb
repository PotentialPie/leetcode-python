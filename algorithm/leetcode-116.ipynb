{
 "cells": [
  {
   "attachments": {},
   "cell_type": "markdown",
   "metadata": {},
   "source": [
    "### 116. Populating Next Right Pointers in Each Node\n",
    "\n",
    "You are given a perfect binary tree where all leaves are on the same level, and every parent has two children. The binary tree has the following definition:\n",
    "\n",
    "```\n",
    "struct Node {\n",
    "  int val;\n",
    "  Node *left;\n",
    "  Node *right;\n",
    "  Node *next;\n",
    "}\n",
    "```\n",
    "\n",
    "Populate each next pointer to point to its next right node. If there is no next right node, the next pointer should be set to NULL.\n",
    "\n",
    "Initially, all next pointers are set to NULL\n",
    "\n",
    "\n",
    "**思路**\n",
    "- 队列方法\n",
    "- 逐层遍历\n",
    "    - 通过双指针：上面一层一个，下面一层一个，两个同时动\n",
    "    - 因为是完全二叉树，所以所有问题都比较好处理\n"
   ]
  },
  {
   "cell_type": "markdown",
   "metadata": {},
   "source": [
    "## 第一种是队列方法"
   ]
  },
  {
   "cell_type": "code",
   "execution_count": 2,
   "metadata": {},
   "outputs": [],
   "source": [
    "\"\"\"\n",
    "# Definition for a Node.\n",
    "class Node(object):\n",
    "    def __init__(self, val, left, right, next):\n",
    "        self.val = val\n",
    "        self.left = left\n",
    "        self.right = right\n",
    "        self.next = next\n",
    "\"\"\"\n",
    "from collections import deque\n",
    "class Solution(object):\n",
    "    def connect(self, root):\n",
    "        \"\"\"\n",
    "        :type root: Node\n",
    "        :rtype: Node\n",
    "        \"\"\"\n",
    "\n",
    "        if not root:\n",
    "            return root\n",
    "        \n",
    "        tmp_height = 1\n",
    "        stack = deque()\n",
    "        stack.append((root,1))\n",
    "        \n",
    "        while stack:\n",
    "            #print(len(stack))\n",
    "            behind_node = None\n",
    "            # 这一步要判断队列为空，不然就白瞎了\n",
    "            while stack and stack[0][1] == tmp_height :\n",
    "                node = stack.popleft()\n",
    "                node[0].next = behind_node\n",
    "                behind_node = node[0]\n",
    "                if node[0].right:\n",
    "                    stack.append((node[0].right, tmp_height+1))\n",
    "                if node[0].left:\n",
    "                    stack.append((node[0].left, tmp_height+1))\n",
    "            tmp_height += 1\n",
    "        \n",
    "        return root\n",
    "            "
   ]
  },
  {
   "cell_type": "markdown",
   "metadata": {},
   "source": [
    "## 逐层遍历"
   ]
  },
  {
   "cell_type": "code",
   "execution_count": 3,
   "metadata": {},
   "outputs": [],
   "source": [
    "\"\"\"\n",
    "# Definition for a Node.\n",
    "class Node(object):\n",
    "    def __init__(self, val, left, right, next):\n",
    "        self.val = val\n",
    "        self.left = left\n",
    "        self.right = right\n",
    "        self.next = next\n",
    "\"\"\"\n",
    "from collections import deque\n",
    "class Solution(object):\n",
    "    def connect(self, root):\n",
    "        \"\"\"\n",
    "        :type root: Node\n",
    "        :rtype: Node\n",
    "        \"\"\"\n",
    "\n",
    "        if not root:\n",
    "            return root\n",
    "        \n",
    "        above = root\n",
    "        while above.left:\n",
    "            cur = above\n",
    "            while cur:\n",
    "                cur.left.next = cur.right\n",
    "                if cur.next:\n",
    "                    cur.right.next = cur.next.left\n",
    "                cur = cur.next\n",
    "            above = above.left\n",
    "        return root         "
   ]
  },
  {
   "cell_type": "code",
   "execution_count": null,
   "metadata": {},
   "outputs": [],
   "source": []
  }
 ],
 "metadata": {
  "kernelspec": {
   "display_name": "Python 3",
   "language": "python",
   "name": "python3"
  },
  "language_info": {
   "codemirror_mode": {
    "name": "ipython",
    "version": 3
   },
   "file_extension": ".py",
   "mimetype": "text/x-python",
   "name": "python",
   "nbconvert_exporter": "python",
   "pygments_lexer": "ipython3",
   "version": "3.6.6"
  }
 },
 "nbformat": 4,
 "nbformat_minor": 2
}
