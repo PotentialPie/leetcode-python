{
 "cells": [
  {
   "cell_type": "markdown",
   "metadata": {},
   "source": [
    "### 6. ZigZag Conversion\n",
    "The string \"PAYPALISHIRING\" is written in a zigzag pattern on a given number of rows like this: (you may want to display this pattern in a fixed font for better legibility)\n",
    "\n",
    "```\n",
    "P   A   H   N\n",
    "A P L S I I G\n",
    "Y   I   R\n",
    "\n",
    "```\n",
    "And then read line by line: \"PAHNAPLSIIGYIR\"\n",
    "\n",
    "Write the code that will take a string and make this conversion given a number of rows:\n",
    "\n",
    "```\n",
    "string convert(string s, int numRows);\n",
    "```\n",
    "\n",
    "**Example1:**\n",
    "\n",
    "```\n",
    "Input: s = \"PAYPALISHIRING\", numRows = 3\n",
    "Output: \"PAHNAPLSIIGYIR\"\n",
    "```\n",
    "**Example2:**\n",
    "\n",
    "```\n",
    "Input: s = \"PAYPALISHIRING\", numRows = 4\n",
    "Output: \"PINALSIGYAHRPI\"\n",
    "Explanation:\n",
    "\n",
    "P     I    N\n",
    "A   L S  I G\n",
    "Y A   H R\n",
    "P     I\n",
    "```\n",
    "\n",
    "**思路**\n",
    "每一个竖勾认为是一个loop，每个loop的长度为2*numRows-2。按照每个loop的大小遍历s，把所得到的数拼接到z数组，数组的长度为numRows，每个元素为这一行的元素的拼接。最后把z数组按行拼接起来就行。\n",
    "\n",
    "```\n",
    "P     I    N\n",
    "A   L S  I G\n",
    "Y A   H R\n",
    "P     I\n",
    "```\n",
    "\n",
    "按照'PAYPAL','ISHIRI','NG'这样的loop来遍历\n",
    "\n",
    "以遍历'PAYPAL'为例子，拼接到z[0,1,2,3,2,1]上，z就变成了\n",
    "\n",
    "```\n",
    "z=[\n",
    "    'P',\n",
    "    'AL',\n",
    "    'YA',\n",
    "    'P'\n",
    "]\n",
    "```\n",
    "\n",
    "最后结果如下：\n",
    "\n",
    "```\n",
    "z=[\n",
    "    'PIN',\n",
    "    'ALSIG',\n",
    "    'YAHR',\n",
    "    'PI'\n",
    "]\n",
    "```\n"
   ]
  },
  {
   "cell_type": "code",
   "execution_count": 3,
   "metadata": {},
   "outputs": [],
   "source": [
    "class Solution:\n",
    "    def convert(self, s, numRows):\n",
    "        \"\"\"\n",
    "        :type s: str\n",
    "        :type numRows: int\n",
    "        :rtype: str\n",
    "        \"\"\"\n",
    "\n",
    "        if numRows == 1 or numRows >= len(s):\n",
    "            return s\n",
    "\n",
    "        n = numRows\n",
    "        z = [''] * n\n",
    "        rn = list(range(0, n - 1)) + list(range(n - 1, 0, -1))  # row number for each loop. the size is 2n-2\n",
    "        print(rn)\n",
    "        s_len = len(s)\n",
    "        i = 0  # character number\n",
    "        for l in range(s_len // (2 * n - 2) + 1):  # loop number. this will chang the column number\n",
    "            for j in range(2 * n - 2):\n",
    "                z[rn[j]] += s[i]\n",
    "                #print(z)\n",
    "                if i == (s_len - 1):\n",
    "                    return \"\".join(z)\n",
    "                else:\n",
    "                    i = i + 1"
   ]
  },
  {
   "cell_type": "code",
   "execution_count": 4,
   "metadata": {},
   "outputs": [
    {
     "name": "stdout",
     "output_type": "stream",
     "text": [
      "[0, 1, 2, 3, 2, 1]\n",
      "PINALSIGYAHRPI\n"
     ]
    }
   ],
   "source": [
    "solution = Solution()\n",
    "print(solution.convert('PAYPALISHIRING',4))"
   ]
  },
  {
   "cell_type": "code",
   "execution_count": null,
   "metadata": {},
   "outputs": [],
   "source": []
  }
 ],
 "metadata": {
  "kernelspec": {
   "display_name": "Python 3",
   "language": "python",
   "name": "python3"
  },
  "language_info": {
   "codemirror_mode": {
    "name": "ipython",
    "version": 3
   },
   "file_extension": ".py",
   "mimetype": "text/x-python",
   "name": "python",
   "nbconvert_exporter": "python",
   "pygments_lexer": "ipython3",
   "version": "3.6.6"
  }
 },
 "nbformat": 4,
 "nbformat_minor": 2
}
