{
 "cells": [
  {
   "cell_type": "markdown",
   "metadata": {},
   "source": [
    "### 46. Permutations\n",
    "Given a collection of distinct integers, return all possible permutations.\n",
    "\n",
    "**Example:**\n",
    "\n",
    "```\n",
    "Input: [1,2,3]\n",
    "Output:\n",
    "[\n",
    "  [1,2,3],\n",
    "  [1,3,2],\n",
    "  [2,1,3],\n",
    "  [2,3,1],\n",
    "  [3,1,2],\n",
    "  [3,2,1]\n",
    "]\n",
    "```\n",
    "\n",
    "\n",
    "**思路1**\n",
    "\n",
    "- 用dfs递归呗，加个used数组，可以不重复，多简单。不过问题就是：慢一点\n",
    "\n",
    "**思路2**\n",
    "- 每层递归拿出第一个数字，后面的做全排列，然后第一个数字插入后面所有全排列的所有位置。\n",
    "- 边界就是为空的时候返回[]，剩一个数字返回[char]\n",
    "- 这个方法可能不太好理解，以1～9全排列为例：倒着想，9全排返回[[9]]，然后插入8，[[8,9],[9,8]],然后插入7，[[7,8,9],[8,7,9],[8,9,7],[7,9,8],[9,7,8],[9,8,7]]\n"
   ]
  },
  {
   "cell_type": "markdown",
   "metadata": {},
   "source": [
    "### 思路1"
   ]
  },
  {
   "cell_type": "code",
   "execution_count": 3,
   "metadata": {},
   "outputs": [],
   "source": [
    "#coding=utf-8\n",
    "class Solution:\n",
    "    def permute(self, nums):\n",
    "        \"\"\"\n",
    "        :type nums: List[int]\n",
    "        :rtype: List[List[int]]\n",
    "        \"\"\"\n",
    "\n",
    "        if not nums:\n",
    "            return []\n",
    "\n",
    "        result_list = []\n",
    "        used_flag = [0 for i in range(len(nums))]\n",
    "\n",
    "        def dfs(index, cur_list):\n",
    "            #print(index, cur_list)\n",
    "            if index == len(nums):\n",
    "                result_list.append(cur_list[:])\n",
    "                return\n",
    "            for nums_index in range(len(nums)):\n",
    "                if used_flag[nums_index] == 0:\n",
    "                    #print(nums_index)\n",
    "                    used_flag[nums_index] = 1\n",
    "                    cur_list.append(nums[nums_index])\n",
    "                    dfs(index + 1, cur_list)\n",
    "                    cur_list.remove(nums[nums_index])\n",
    "                    # 我勒个乖乖，这种低级错误不能犯啊，回溯啊\n",
    "                    used_flag[nums_index] = 0\n",
    "\n",
    "        dfs(0, [])\n",
    "        return result_list"
   ]
  },
  {
   "cell_type": "code",
   "execution_count": 4,
   "metadata": {},
   "outputs": [
    {
     "name": "stdout",
     "output_type": "stream",
     "text": [
      "[[1, 2, 3], [1, 3, 2], [2, 1, 3], [2, 3, 1], [3, 1, 2], [3, 2, 1]]\n"
     ]
    }
   ],
   "source": [
    "solution = Solution()\n",
    "print(solution.permute([1,2,3]))"
   ]
  },
  {
   "cell_type": "markdown",
   "metadata": {},
   "source": [
    "### 思路2"
   ]
  },
  {
   "cell_type": "code",
   "execution_count": 15,
   "metadata": {},
   "outputs": [],
   "source": [
    "#coding=utf-8\n",
    "class Solution:\n",
    "    def permute(self, nums):\n",
    "        \"\"\"\n",
    "        :type nums: List[int]\n",
    "        :rtype: List[List[int]]\n",
    "        \"\"\"\n",
    "\n",
    "        if not nums:\n",
    "            return []\n",
    "\n",
    "        def dfs(nums):\n",
    "            if len(nums) == 1:\n",
    "                return [[nums[0]]]\n",
    "            tmp = nums[0]\n",
    "            perms = dfs(nums[1:])\n",
    "            tmp_result = []\n",
    "            for perm in perms:\n",
    "                for i in range(len(perm)+1):\n",
    "                    #这里可不能搞错啊，不是替换，是插入\n",
    "                    tmp_result.append(perm[:i]+[tmp]+perm[i:]) \n",
    "                    #tmp_result.append(perm[:i]+[tmp]+perm[i+1:]) \n",
    "            return tmp_result\n",
    "\n",
    "        result_list = dfs(nums)\n",
    "        return result_list"
   ]
  },
  {
   "cell_type": "code",
   "execution_count": 16,
   "metadata": {},
   "outputs": [
    {
     "name": "stdout",
     "output_type": "stream",
     "text": [
      "[[1, 2, 3], [2, 1, 3], [2, 3, 1], [1, 3, 2], [3, 1, 2], [3, 2, 1]]\n"
     ]
    }
   ],
   "source": [
    "solution = Solution()\n",
    "print(solution.permute([1,2,3]))"
   ]
  },
  {
   "cell_type": "markdown",
   "metadata": {},
   "source": [
    "### 思路3"
   ]
  },
  {
   "cell_type": "code",
   "execution_count": 3,
   "metadata": {},
   "outputs": [],
   "source": [
    "# coding=utf-8\n",
    "class Solution:\n",
    "    def permute(self, nums):\n",
    "        res = []\n",
    "        nums.sort()\n",
    "        self.dfs(nums, [], res)\n",
    "        return res\n",
    "\n",
    "    def dfs(self, nums, path, res):\n",
    "        if not nums:\n",
    "            res.append(path)\n",
    "            return\n",
    "        for i in range(len(nums)):\n",
    "            # 这句代码加不加决定去不去重，为了统一，可以一直加着了\n",
    "#             if i > 0 and nums[i] == nums[i - 1]:\n",
    "#                 continue\n",
    "            self.dfs(nums[:i] + nums[i + 1:], path + [nums[i]], res)"
   ]
  },
  {
   "cell_type": "code",
   "execution_count": 4,
   "metadata": {},
   "outputs": [
    {
     "name": "stdout",
     "output_type": "stream",
     "text": [
      "[[1, 2, 3], [1, 3, 2], [2, 1, 3], [2, 3, 1], [3, 1, 2], [3, 2, 1]]\n"
     ]
    }
   ],
   "source": [
    "solution = Solution()\n",
    "print(solution.permute([1,2,3]))"
   ]
  },
  {
   "cell_type": "code",
   "execution_count": null,
   "metadata": {},
   "outputs": [],
   "source": []
  }
 ],
 "metadata": {
  "kernelspec": {
   "display_name": "Python 3",
   "language": "python",
   "name": "python3"
  },
  "language_info": {
   "codemirror_mode": {
    "name": "ipython",
    "version": 3
   },
   "file_extension": ".py",
   "mimetype": "text/x-python",
   "name": "python",
   "nbconvert_exporter": "python",
   "pygments_lexer": "ipython3",
   "version": "3.7.0"
  }
 },
 "nbformat": 4,
 "nbformat_minor": 2
}
