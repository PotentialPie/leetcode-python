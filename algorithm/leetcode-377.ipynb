{
 "cells": [
  {
   "cell_type": "markdown",
   "metadata": {},
   "source": [
    "### 377. Combination Sum IV\n",
    "Given an integer array with all positive numbers and no duplicates, find the number of possible combinations that add up to a positive integer target.\n",
    "\n",
    "\n",
    "**Example:**\n",
    "\n",
    "```\n",
    "nums = [1, 2, 3]\n",
    "target = 4\n",
    "\n",
    "The possible combination ways are:\n",
    "(1, 1, 1, 1)\n",
    "(1, 1, 2)\n",
    "(1, 2, 1)\n",
    "(1, 3)\n",
    "(2, 1, 1)\n",
    "(2, 2)\n",
    "(3, 1)\n",
    "\n",
    "Note that different sequences are counted as different combinations.\n",
    "\n",
    "Therefore the output is 7.\n",
    "```\n",
    "\n",
    "**思路**\n",
    "\n",
    "两种：一种dfs解法，一种dp解法\n",
    "\n",
    "**注意点**\n",
    "\n",
    "不同的排列也算一种答案"
   ]
  },
  {
   "cell_type": "markdown",
   "metadata": {},
   "source": [
    "## 先来考虑重复的排列是一种答案的情况"
   ]
  },
  {
   "cell_type": "code",
   "execution_count": 37,
   "metadata": {},
   "outputs": [],
   "source": [
    "class Solution(object):\n",
    "    def combinationSum4(self, nums, target):\n",
    "        \"\"\"\n",
    "        :type nums: List[int]\n",
    "        :type target: int\n",
    "        :rtype: int\n",
    "        \"\"\"\n",
    "        ans = [0]\n",
    "        if target < nums[0]:\n",
    "            return 0\n",
    "        \n",
    "        result = []\n",
    "        tmp = []\n",
    "        \n",
    "        nums.sort()\n",
    "        \n",
    "        def DFS(index, left):\n",
    "            #print(index,left)\n",
    "            if left == 0:\n",
    "                result.append(tmp[:])\n",
    "                ans[0] += 1\n",
    "                return\n",
    "            if index < 0:\n",
    "                return\n",
    "            if left < nums[0]:\n",
    "                return\n",
    "            for i in range(0, left//nums[index] + 1):\n",
    "                for dup in range(i):\n",
    "                    tmp.append(nums[index])\n",
    "                DFS(index-1, left-nums[index]*i)\n",
    "                for dup in range(i):\n",
    "                    tmp.pop()\n",
    "        \n",
    "        DFS(len(nums)-1, target)\n",
    "        print(result)\n",
    "        return ans[0]"
   ]
  },
  {
   "cell_type": "code",
   "execution_count": 38,
   "metadata": {},
   "outputs": [
    {
     "name": "stdout",
     "output_type": "stream",
     "text": [
      "[[1, 1, 1, 1], [2, 1, 1], [2, 2], [3, 1]]\n",
      "ans : 4\n"
     ]
    }
   ],
   "source": [
    "import time\n",
    "solution = Solution()\n",
    "\n",
    "print('ans :', solution.combinationSum4(nums = [1, 2, 3], target = 4))\n",
    "# print('ans :', solution.combinationSum4(k = 3, n = 9))\n",
    "# print('ans :', solution.combinationSum4(k = 3, n = 2))\n",
    "# print('ans :', solution.combinationSum4(k = 10, n = 10))\n",
    "# print('ans :', solution.combinationSum4(k = 4, n = 61))\n",
    "# print('ans :', solution.combinationSum4(k = 4, n = 30))\n",
    "# print('ans :', solution.combinationSum4(k = 4, n = 29))\n",
    "\n",
    "# TODO\n",
    "# Manacher Algorithm"
   ]
  },
  {
   "cell_type": "markdown",
   "metadata": {},
   "source": [
    "## 考虑一下不同排列是不同答案的情况\n",
    "用dfs来解"
   ]
  },
  {
   "cell_type": "code",
   "execution_count": 28,
   "metadata": {},
   "outputs": [],
   "source": [
    "class Solution(object):\n",
    "    def combinationSum4(self, nums, target):\n",
    "        \"\"\"\n",
    "        :type nums: List[int]\n",
    "        :type target: int\n",
    "        :rtype: int\n",
    "        \"\"\"\n",
    "        dp = [0 for i in range(target+1)]\n",
    "        nums.sort()\n",
    "        def DFS(target):\n",
    "            #print(target)\n",
    "            if target == 0:\n",
    "                return 1\n",
    "            if dp[target]:\n",
    "                return dp[target]\n",
    "            tmp = 0\n",
    "            for i in range(len(nums)):\n",
    "                if target >= nums[i]:\n",
    "                    tmp += DFS(target - nums[i])\n",
    "                else:\n",
    "                    break\n",
    "            dp[target] = tmp\n",
    "            return dp[target]\n",
    "        \n",
    "        DFS(target)\n",
    "        return dp[target]\n",
    "        "
   ]
  },
  {
   "cell_type": "code",
   "execution_count": 29,
   "metadata": {},
   "outputs": [
    {
     "name": "stdout",
     "output_type": "stream",
     "text": [
      "ans : 7\n"
     ]
    },
    {
     "ename": "RecursionError",
     "evalue": "maximum recursion depth exceeded in comparison",
     "output_type": "error",
     "traceback": [
      "\u001b[0;31m-------------------------------------------------------------------\u001b[0m",
      "\u001b[0;31mRecursionError\u001b[0m                    Traceback (most recent call last)",
      "\u001b[0;32m<ipython-input-29-ad31b785fe38>\u001b[0m in \u001b[0;36m<module>\u001b[0;34m()\u001b[0m\n\u001b[1;32m      3\u001b[0m \u001b[0;34m\u001b[0m\u001b[0m\n\u001b[1;32m      4\u001b[0m \u001b[0mprint\u001b[0m\u001b[0;34m(\u001b[0m\u001b[0;34m'ans :'\u001b[0m\u001b[0;34m,\u001b[0m \u001b[0msolution\u001b[0m\u001b[0;34m.\u001b[0m\u001b[0mcombinationSum4\u001b[0m\u001b[0;34m(\u001b[0m\u001b[0mnums\u001b[0m \u001b[0;34m=\u001b[0m \u001b[0;34m[\u001b[0m\u001b[0;36m1\u001b[0m\u001b[0;34m,\u001b[0m \u001b[0;36m2\u001b[0m\u001b[0;34m,\u001b[0m \u001b[0;36m3\u001b[0m\u001b[0;34m]\u001b[0m\u001b[0;34m,\u001b[0m \u001b[0mtarget\u001b[0m \u001b[0;34m=\u001b[0m \u001b[0;36m4\u001b[0m\u001b[0;34m)\u001b[0m\u001b[0;34m)\u001b[0m\u001b[0;34m\u001b[0m\u001b[0m\n\u001b[0;32m----> 5\u001b[0;31m \u001b[0mprint\u001b[0m\u001b[0;34m(\u001b[0m\u001b[0;34m'ans :'\u001b[0m\u001b[0;34m,\u001b[0m \u001b[0msolution\u001b[0m\u001b[0;34m.\u001b[0m\u001b[0mcombinationSum4\u001b[0m\u001b[0;34m(\u001b[0m\u001b[0mnums\u001b[0m \u001b[0;34m=\u001b[0m \u001b[0;34m[\u001b[0m\u001b[0;36m3\u001b[0m\u001b[0;34m,\u001b[0m\u001b[0;36m33\u001b[0m\u001b[0;34m,\u001b[0m\u001b[0;36m333\u001b[0m\u001b[0;34m]\u001b[0m\u001b[0;34m,\u001b[0m \u001b[0mtarget\u001b[0m \u001b[0;34m=\u001b[0m \u001b[0;36m10000\u001b[0m\u001b[0;34m)\u001b[0m\u001b[0;34m)\u001b[0m\u001b[0;34m\u001b[0m\u001b[0m\n\u001b[0m\u001b[1;32m      6\u001b[0m \u001b[0;34m\u001b[0m\u001b[0m\n\u001b[1;32m      7\u001b[0m \u001b[0;31m## 发现居然不行，会溢出！！！！！！\u001b[0m\u001b[0;34m\u001b[0m\u001b[0;34m\u001b[0m\u001b[0m\n",
      "\u001b[0;32m<ipython-input-28-a8b8fc9c9fd0>\u001b[0m in \u001b[0;36mcombinationSum4\u001b[0;34m(self, nums, target)\u001b[0m\n\u001b[1;32m     23\u001b[0m             \u001b[0;32mreturn\u001b[0m \u001b[0mdp\u001b[0m\u001b[0;34m[\u001b[0m\u001b[0mtarget\u001b[0m\u001b[0;34m]\u001b[0m\u001b[0;34m\u001b[0m\u001b[0m\n\u001b[1;32m     24\u001b[0m \u001b[0;34m\u001b[0m\u001b[0m\n\u001b[0;32m---> 25\u001b[0;31m         \u001b[0mDFS\u001b[0m\u001b[0;34m(\u001b[0m\u001b[0mtarget\u001b[0m\u001b[0;34m)\u001b[0m\u001b[0;34m\u001b[0m\u001b[0m\n\u001b[0m\u001b[1;32m     26\u001b[0m         \u001b[0;32mreturn\u001b[0m \u001b[0mdp\u001b[0m\u001b[0;34m[\u001b[0m\u001b[0mtarget\u001b[0m\u001b[0;34m]\u001b[0m\u001b[0;34m\u001b[0m\u001b[0m\n\u001b[1;32m     27\u001b[0m \u001b[0;34m\u001b[0m\u001b[0m\n",
      "\u001b[0;32m<ipython-input-28-a8b8fc9c9fd0>\u001b[0m in \u001b[0;36mDFS\u001b[0;34m(target)\u001b[0m\n\u001b[1;32m     17\u001b[0m             \u001b[0;32mfor\u001b[0m \u001b[0mi\u001b[0m \u001b[0;32min\u001b[0m \u001b[0mrange\u001b[0m\u001b[0;34m(\u001b[0m\u001b[0mlen\u001b[0m\u001b[0;34m(\u001b[0m\u001b[0mnums\u001b[0m\u001b[0;34m)\u001b[0m\u001b[0;34m)\u001b[0m\u001b[0;34m:\u001b[0m\u001b[0;34m\u001b[0m\u001b[0m\n\u001b[1;32m     18\u001b[0m                 \u001b[0;32mif\u001b[0m \u001b[0mtarget\u001b[0m \u001b[0;34m>=\u001b[0m \u001b[0mnums\u001b[0m\u001b[0;34m[\u001b[0m\u001b[0mi\u001b[0m\u001b[0;34m]\u001b[0m\u001b[0;34m:\u001b[0m\u001b[0;34m\u001b[0m\u001b[0m\n\u001b[0;32m---> 19\u001b[0;31m                     \u001b[0mtmp\u001b[0m \u001b[0;34m+=\u001b[0m \u001b[0mDFS\u001b[0m\u001b[0;34m(\u001b[0m\u001b[0mtarget\u001b[0m \u001b[0;34m-\u001b[0m \u001b[0mnums\u001b[0m\u001b[0;34m[\u001b[0m\u001b[0mi\u001b[0m\u001b[0;34m]\u001b[0m\u001b[0;34m)\u001b[0m\u001b[0;34m\u001b[0m\u001b[0m\n\u001b[0m\u001b[1;32m     20\u001b[0m                 \u001b[0;32melse\u001b[0m\u001b[0;34m:\u001b[0m\u001b[0;34m\u001b[0m\u001b[0m\n\u001b[1;32m     21\u001b[0m                     \u001b[0;32mbreak\u001b[0m\u001b[0;34m\u001b[0m\u001b[0m\n",
      "... last 1 frames repeated, from the frame below ...\n",
      "\u001b[0;32m<ipython-input-28-a8b8fc9c9fd0>\u001b[0m in \u001b[0;36mDFS\u001b[0;34m(target)\u001b[0m\n\u001b[1;32m     17\u001b[0m             \u001b[0;32mfor\u001b[0m \u001b[0mi\u001b[0m \u001b[0;32min\u001b[0m \u001b[0mrange\u001b[0m\u001b[0;34m(\u001b[0m\u001b[0mlen\u001b[0m\u001b[0;34m(\u001b[0m\u001b[0mnums\u001b[0m\u001b[0;34m)\u001b[0m\u001b[0;34m)\u001b[0m\u001b[0;34m:\u001b[0m\u001b[0;34m\u001b[0m\u001b[0m\n\u001b[1;32m     18\u001b[0m                 \u001b[0;32mif\u001b[0m \u001b[0mtarget\u001b[0m \u001b[0;34m>=\u001b[0m \u001b[0mnums\u001b[0m\u001b[0;34m[\u001b[0m\u001b[0mi\u001b[0m\u001b[0;34m]\u001b[0m\u001b[0;34m:\u001b[0m\u001b[0;34m\u001b[0m\u001b[0m\n\u001b[0;32m---> 19\u001b[0;31m                     \u001b[0mtmp\u001b[0m \u001b[0;34m+=\u001b[0m \u001b[0mDFS\u001b[0m\u001b[0;34m(\u001b[0m\u001b[0mtarget\u001b[0m \u001b[0;34m-\u001b[0m \u001b[0mnums\u001b[0m\u001b[0;34m[\u001b[0m\u001b[0mi\u001b[0m\u001b[0;34m]\u001b[0m\u001b[0;34m)\u001b[0m\u001b[0;34m\u001b[0m\u001b[0m\n\u001b[0m\u001b[1;32m     20\u001b[0m                 \u001b[0;32melse\u001b[0m\u001b[0;34m:\u001b[0m\u001b[0;34m\u001b[0m\u001b[0m\n\u001b[1;32m     21\u001b[0m                     \u001b[0;32mbreak\u001b[0m\u001b[0;34m\u001b[0m\u001b[0m\n",
      "\u001b[0;31mRecursionError\u001b[0m: maximum recursion depth exceeded in comparison"
     ]
    }
   ],
   "source": [
    "import time\n",
    "solution = Solution()\n",
    "\n",
    "print('ans :', solution.combinationSum4(nums = [1, 2, 3], target = 4))\n",
    "print('ans :', solution.combinationSum4(nums = [3,33,333], target = 10000))\n",
    "\n",
    "## 发现居然不行，会溢出！！！！！！"
   ]
  },
  {
   "cell_type": "markdown",
   "metadata": {},
   "source": [
    "## 看来只能试一下dp了"
   ]
  },
  {
   "cell_type": "code",
   "execution_count": 35,
   "metadata": {},
   "outputs": [],
   "source": [
    "class Solution(object):\n",
    "    def combinationSum4(self, nums, target):\n",
    "        \"\"\"\n",
    "        :type nums: List[int]\n",
    "        :type target: int\n",
    "        :rtype: int\n",
    "        \"\"\"\n",
    "        dp = [0 for i in range(target+1)]\n",
    "        dp[0] = 1\n",
    "        nums.sort()\n",
    "        for i in range(1, target+1):\n",
    "            for num in nums:\n",
    "                if num > i:\n",
    "                    break\n",
    "                else:\n",
    "                    dp[i] += dp[i-num]\n",
    "        return dp[target]"
   ]
  },
  {
   "cell_type": "code",
   "execution_count": 36,
   "metadata": {},
   "outputs": [
    {
     "name": "stdout",
     "output_type": "stream",
     "text": [
      "ans : 7\n",
      "ans : 0\n"
     ]
    }
   ],
   "source": [
    "import time\n",
    "solution = Solution()\n",
    "\n",
    "print('ans :', solution.combinationSum4(nums = [1, 2, 3], target = 4))\n",
    "print('ans :', solution.combinationSum4(nums = [3,33,333], target = 10000))\n",
    "\n",
    "## 发现居然不行，会溢出！！！！！！"
   ]
  },
  {
   "cell_type": "code",
   "execution_count": null,
   "metadata": {},
   "outputs": [],
   "source": []
  }
 ],
 "metadata": {
  "kernelspec": {
   "display_name": "Python 3",
   "language": "python",
   "name": "python3"
  },
  "language_info": {
   "codemirror_mode": {
    "name": "ipython",
    "version": 3
   },
   "file_extension": ".py",
   "mimetype": "text/x-python",
   "name": "python",
   "nbconvert_exporter": "python",
   "pygments_lexer": "ipython3",
   "version": "3.7.0"
  }
 },
 "nbformat": 4,
 "nbformat_minor": 2
}
