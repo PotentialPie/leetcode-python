{
 "cells": [
  {
   "cell_type": "markdown",
   "metadata": {},
   "source": [
    "### 106. Construct Binary Tree from Inorder and Postorder Traversal\n",
    "\n",
    "Given inorder and postorder traversal of a tree, construct the binary tree.\n",
    "\n",
    "**Note:**\n",
    "\n",
    "You may assume that duplicates do not exist in the tree.\n",
    "\n",
    "\n",
    "**Example1:**\n",
    "\n",
    "```\n",
    "inorder = [9,3,15,20,7]\n",
    "postorder = [9,15,7,20,3]\n",
    "Return the following binary tree:\n",
    "\n",
    "    3\n",
    "   / \\\n",
    "  9  20\n",
    "    /  \\\n",
    "   15   7\n",
    "```\n",
    "\n",
    "\n",
    "**思路**\n",
    "- 递归\n",
    "- 栈方法\n"
   ]
  },
  {
   "cell_type": "markdown",
   "metadata": {},
   "source": [
    "## 先试试递归方法"
   ]
  },
  {
   "cell_type": "code",
   "execution_count": 1,
   "metadata": {},
   "outputs": [],
   "source": [
    "# Definition for a binary tree node.\n",
    "# class TreeNode(object):\n",
    "#     def __init__(self, x):\n",
    "#         self.val = x\n",
    "#         self.left = None\n",
    "#         self.right = None\n",
    "\n",
    "class Solution(object):\n",
    "    def buildTree(self, inorder, postorder):\n",
    "        \"\"\"\n",
    "        :type inorder: List[int]\n",
    "        :type postorder: List[int]\n",
    "        :rtype: TreeNode\n",
    "        \"\"\"\n",
    "        def consTree(inorder, postorder):\n",
    "            if inorder:\n",
    "                index = inorder.index(postorder.pop())\n",
    "                root = TreeNode(inorder[index])\n",
    "                root.right = consTree(inorder[index+1:], postorder)\n",
    "                root.left = consTree(inorder[:index], postorder)\n",
    "                return root\n",
    "        \n",
    "        consTree(inorder, postorder)"
   ]
  },
  {
   "cell_type": "code",
   "execution_count": null,
   "metadata": {},
   "outputs": [],
   "source": []
  }
 ],
 "metadata": {
  "kernelspec": {
   "display_name": "Python 3",
   "language": "python",
   "name": "python3"
  },
  "language_info": {
   "codemirror_mode": {
    "name": "ipython",
    "version": 3
   },
   "file_extension": ".py",
   "mimetype": "text/x-python",
   "name": "python",
   "nbconvert_exporter": "python",
   "pygments_lexer": "ipython3",
   "version": "3.6.6"
  }
 },
 "nbformat": 4,
 "nbformat_minor": 2
}
