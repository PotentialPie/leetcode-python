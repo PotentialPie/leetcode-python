{
 "cells": [
  {
   "cell_type": "markdown",
   "metadata": {},
   "source": [
    "### 24. Swap Nodes in Pairs\n",
    "Given a linked list, swap every two adjacent nodes and return its head.\n",
    "\n",
    "You may not modify the values in the list's nodes, only nodes itself may be changed.\n",
    "\n",
    "**Example:**\n",
    "\n",
    "```\n",
    "Given 1->2->3->4, you should return the list as 2->1->4->3.\n",
    "```\n",
    "\n",
    "**思路**\n",
    "\n",
    "用p,q,s分别代表两个待交换的节点和前一个节点\n",
    "\n",
    "- 结合s，交换p,q节点\n",
    "- s指向现在的p节点（注意，交换后p节点在后，所以p节点是后面待交换节点的前一个节点）\n",
    "- 如果s后面为空，说明没有待交换节点，结束\n",
    "- 否则，p指向s后面的节点，q指向p后面节点，继续循环\n",
    "\n",
    "**注意点**\n",
    "- 可以定义一个-1头节点，简化代码\n",
    "- 交换的时候，注意p,q节点位置的变化\n",
    "\n"
   ]
  },
  {
   "cell_type": "code",
   "execution_count": 1,
   "metadata": {},
   "outputs": [],
   "source": [
    "# Definition for singly-linked list.\n",
    "class ListNode:\n",
    "    def __init__(self, x):\n",
    "        self.val = x\n",
    "        self.next = None\n",
    "\n",
    "class Solution:\n",
    "    def swapPairs(self, head):\n",
    "        \"\"\"\n",
    "        :type head: ListNode\n",
    "        :rtype: ListNode\n",
    "        \"\"\"\n",
    "        if not head or head.next is None:\n",
    "            return head\n",
    "        return_head = head.next\n",
    "        \n",
    "        p = head\n",
    "        q = head.next\n",
    "        temp_node = ListNode(-1)\n",
    "        temp_node.next = head\n",
    "        \n",
    "        while q is not None:\n",
    "            p.next = q.next\n",
    "            q.next = p\n",
    "            temp_node.next = q\n",
    "            \n",
    "            temp_node = p\n",
    "            if temp_node.next is None:\n",
    "                break\n",
    "            p = p.next\n",
    "            q = p.next\n",
    "        \n",
    "        return return_head\n",
    "        "
   ]
  }
 ],
 "metadata": {
  "kernelspec": {
   "display_name": "Python 3",
   "language": "python",
   "name": "python3"
  },
  "language_info": {
   "codemirror_mode": {
    "name": "ipython",
    "version": 3
   },
   "file_extension": ".py",
   "mimetype": "text/x-python",
   "name": "python",
   "nbconvert_exporter": "python",
   "pygments_lexer": "ipython3",
   "version": "3.7.0"
  }
 },
 "nbformat": 4,
 "nbformat_minor": 2
}
