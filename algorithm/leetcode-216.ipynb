{
 "cells": [
  {
   "cell_type": "markdown",
   "metadata": {},
   "source": [
    "### 216. Combination Sum III\n",
    "Find all possible combinations of k numbers that add up to a number n, given that only numbers from 1 to 9 can be used and each combination should be a unique set of numbers.\n",
    "\n",
    "**Note:**\n",
    "\n",
    "- All numbers will be positive integers.\n",
    "- The solution set must not contain duplicate combinations.\n",
    "\n",
    "**Example1:**\n",
    "\n",
    "```\n",
    "Input: k = 3, n = 7\n",
    "Output: [[1,2,4]]\n",
    "```\n",
    "**Example2:**\n",
    "\n",
    "```\n",
    "Input: k = 3, n = 9\n",
    "Output: [[1,2,6], [1,3,5], [2,3,4]]\n",
    "```\n",
    "\n",
    "**思路**\n",
    "\n",
    "两种：一种dfs解法，一种dp解法\n",
    "\n",
    "**注意点**\n",
    "\n"
   ]
  },
  {
   "cell_type": "code",
   "execution_count": 5,
   "metadata": {},
   "outputs": [],
   "source": [
    "class Solution(object):\n",
    "    def combinationSum3(self, k, n):\n",
    "        \"\"\"\n",
    "        :type k: int\n",
    "        :type n: int\n",
    "        :rtype: List[List[int]]\n",
    "        \"\"\"\n",
    "        used = [0 for i in range(9)]\n",
    "        ans = []\n",
    "        if k > 9 or n*2 < (k+1)*k or 2*n > k*(19-k):\n",
    "            return ans\n",
    "        tmp = []\n",
    "        def DFS(num, k, remain):\n",
    "            if k == 0 and remain == 0:\n",
    "                ans.append(tmp[:])\n",
    "                return\n",
    "            # 对这题而言，提前剪枝好像效果不太明显\n",
    "            if k > num or remain*2 < (k+1)*k or 2*remain > k*(19-k):\n",
    "                return\n",
    "            if k == 0 and remain > 0:\n",
    "                return\n",
    "            if remain == 0 and k > 0:\n",
    "                return\n",
    "            if num < 1:\n",
    "                return \n",
    "            \n",
    "            if remain >= num:\n",
    "                tmp.append(num)\n",
    "                DFS(num - 1, k - 1, remain - num)\n",
    "                tmp.pop()\n",
    "            \n",
    "            DFS(num - 1, k, remain)\n",
    "            \n",
    "        DFS(9, k, n)\n",
    "        \n",
    "        return ans"
   ]
  },
  {
   "cell_type": "code",
   "execution_count": 6,
   "metadata": {},
   "outputs": [
    {
     "name": "stdout",
     "output_type": "stream",
     "text": [
      "ans : [[4, 2, 1]]\n",
      "ans : [[6, 2, 1], [5, 3, 1], [4, 3, 2]]\n",
      "ans : []\n",
      "ans : []\n",
      "ans : []\n",
      "ans : [[9, 8, 7, 6]]\n",
      "ans : [[9, 8, 7, 5]]\n"
     ]
    }
   ],
   "source": [
    "import time\n",
    "solution = Solution()\n",
    "\n",
    "print('ans :', solution.combinationSum3(k = 3, n = 7))\n",
    "print('ans :', solution.combinationSum3(k = 3, n = 9))\n",
    "print('ans :', solution.combinationSum3(k = 3, n = 2))\n",
    "print('ans :', solution.combinationSum3(k = 10, n = 10))\n",
    "print('ans :', solution.combinationSum3(k = 4, n = 61))\n",
    "print('ans :', solution.combinationSum3(k = 4, n = 30))\n",
    "print('ans :', solution.combinationSum3(k = 4, n = 29))\n",
    "\n",
    "# TODO\n",
    "# Manacher Algorithm"
   ]
  },
  {
   "cell_type": "markdown",
   "metadata": {},
   "source": [
    "但是动态规划不一定是最合适的，因为动态规划会把所有的可能情况算一遍，所以反而用递归的方式会好一点"
   ]
  },
  {
   "cell_type": "code",
   "execution_count": null,
   "metadata": {},
   "outputs": [],
   "source": []
  }
 ],
 "metadata": {
  "kernelspec": {
   "display_name": "Python 3",
   "language": "python",
   "name": "python3"
  },
  "language_info": {
   "codemirror_mode": {
    "name": "ipython",
    "version": 3
   },
   "file_extension": ".py",
   "mimetype": "text/x-python",
   "name": "python",
   "nbconvert_exporter": "python",
   "pygments_lexer": "ipython3",
   "version": "3.7.0"
  }
 },
 "nbformat": 4,
 "nbformat_minor": 2
}
