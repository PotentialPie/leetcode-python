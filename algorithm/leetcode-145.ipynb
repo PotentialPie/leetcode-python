{
 "cells": [
  {
   "cell_type": "markdown",
   "metadata": {},
   "source": [
    "### 145. Binary Tree Postorder Traversal\n",
    "\n",
    "Given a binary tree, return the postorder traversal of its nodes' values.\n",
    "\n",
    "**Example1:**\n",
    "\n",
    "```\n",
    "Input: [1,null,2,3]\n",
    "   1\n",
    "    \\\n",
    "     2\n",
    "    /\n",
    "   3\n",
    "\n",
    "Output: [3,2,1]\n",
    "```\n",
    "\n",
    "\n",
    "**思路**\n",
    "- 递归\n",
    "- 栈方法\n",
    "\n",
    "**注意点**\n",
    "\n",
    "队列方法不行，队列方法是层次遍历用的"
   ]
  },
  {
   "cell_type": "markdown",
   "metadata": {},
   "source": [
    "## 先试试栈方法"
   ]
  },
  {
   "cell_type": "code",
   "execution_count": 1,
   "metadata": {},
   "outputs": [],
   "source": [
    "# Definition for a binary tree node.\n",
    "# class TreeNode(object):\n",
    "#     def __init__(self, x):\n",
    "#         self.val = x\n",
    "#         self.left = None\n",
    "#         self.right = None\n",
    "\n",
    "class Solution(object):\n",
    "    def postorderTraversal(self, root):\n",
    "        \"\"\"\n",
    "        :type root: TreeNode\n",
    "        :rtype: List[int]\n",
    "        \"\"\"\n",
    "        \n",
    "        if root is None:\n",
    "            return []\n",
    "        s1, ret = [root], []\n",
    "        while s1:\n",
    "            curr = s1.pop()\n",
    "            ret.append(curr.val)\n",
    "            if curr.left is not None:\n",
    "                s1.append(curr.left)\n",
    "            if curr.right is not None:\n",
    "                s1.append(curr.right)\n",
    "        return ret[::-1]\n",
    "        "
   ]
  },
  {
   "cell_type": "markdown",
   "metadata": {},
   "source": [
    "## 试试递归方法"
   ]
  },
  {
   "cell_type": "code",
   "execution_count": 2,
   "metadata": {},
   "outputs": [],
   "source": [
    "# Definition for a binary tree node.\n",
    "# class TreeNode(object):\n",
    "#     def __init__(self, x):\n",
    "#         self.val = x\n",
    "#         self.left = None\n",
    "#         self.right = None\n",
    "\n",
    "class Solution(object):\n",
    "    def postorderTraversal(self, root):\n",
    "        \"\"\"\n",
    "        :type root: TreeNode\n",
    "        :rtype: List[int]\n",
    "        \"\"\"\n",
    "        \n",
    "        ans = []\n",
    "        if not root:\n",
    "            return ans\n",
    "        \n",
    "        def DFS(node):\n",
    "            if node.left:\n",
    "                DFS(node.left)\n",
    "            if node.right:\n",
    "                DFS(node.right)\n",
    "            ans.append(node.val)\n",
    "        \n",
    "        DFS(root)\n",
    "        return ans\n",
    "        "
   ]
  },
  {
   "cell_type": "code",
   "execution_count": null,
   "metadata": {},
   "outputs": [],
   "source": []
  }
 ],
 "metadata": {
  "kernelspec": {
   "display_name": "Python 3",
   "language": "python",
   "name": "python3"
  },
  "language_info": {
   "codemirror_mode": {
    "name": "ipython",
    "version": 3
   },
   "file_extension": ".py",
   "mimetype": "text/x-python",
   "name": "python",
   "nbconvert_exporter": "python",
   "pygments_lexer": "ipython3",
   "version": "3.7.0"
  }
 },
 "nbformat": 4,
 "nbformat_minor": 2
}
