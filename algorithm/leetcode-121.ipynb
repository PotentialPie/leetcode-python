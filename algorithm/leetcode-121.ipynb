{
 "cells": [
  {
   "cell_type": "markdown",
   "metadata": {},
   "source": [
    "### 121. Best Time to Buy and Sell Stock\n",
    "Say you have an array for which the ith element is the price of a given stock on day i.\n",
    "\n",
    "If you were only permitted to complete at most one transaction (i.e., buy one and sell one share of the stock), design an algorithm to find the maximum profit.\n",
    "\n",
    "Note that you cannot sell a stock before you buy one.\n",
    "\n",
    "\n",
    "**Example1:**\n",
    "\n",
    "```\n",
    "Input: [7,1,5,3,6,4]\n",
    "Output: 5\n",
    "Explanation: Buy on day 2 (price = 1) and sell on day 5 (price = 6), profit = 6-1 = 5.\n",
    "             Not 7-1 = 6, as selling price needs to be larger than buying price.\n",
    "```\n",
    "**Example2:**\n",
    "\n",
    "```\n",
    "Input: [7,6,4,3,1]\n",
    "Output: 0\n",
    "Explanation: In this case, no transaction is done, i.e. max profit = 0.\n",
    "```\n",
    "\n",
    "**思路**\n",
    "\n",
    "- one pass遍历\n",
    "\n",
    "- 每次求一下当前位置与前面遇到的最小数字的差，和当前最大的差做比较\n",
    "\n",
    "- 如果当前数字更小，更新最小数字\n",
    "\n",
    "**注意点**\n",
    "\n"
   ]
  },
  {
   "cell_type": "code",
   "execution_count": 10,
   "metadata": {},
   "outputs": [],
   "source": [
    "class Solution(object):\n",
    "    def maxProfit(self, prices):\n",
    "        \"\"\"\n",
    "        :type prices: List[int]\n",
    "        :rtype: int\n",
    "        \"\"\"\n",
    "        min_price = 9999999999\n",
    "        max_profit = 0\n",
    "        \n",
    "        for price in prices:\n",
    "            max_profit = max(max_profit, price - min_price)\n",
    "            min_price = min(min_price, price)\n",
    "        \n",
    "        return max_profit"
   ]
  },
  {
   "cell_type": "code",
   "execution_count": 11,
   "metadata": {},
   "outputs": [
    {
     "name": "stdout",
     "output_type": "stream",
     "text": [
      "ans : 0\n",
      "ans : 0\n",
      "ans : 1\n",
      "ans : 0\n",
      "ans : 0\n",
      "ans : 5\n",
      "ans : 5\n",
      "ans : 5\n"
     ]
    }
   ],
   "source": [
    "import time\n",
    "solution = Solution()\n",
    "\n",
    "print('ans :', solution.maxProfit([1]))\n",
    "print('ans :', solution.maxProfit([1,1]))\n",
    "print('ans :', solution.maxProfit([1,2]))\n",
    "print('ans :', solution.maxProfit([2,1]))\n",
    "print('ans :', solution.maxProfit([7,6,4,3,1]))\n",
    "print('ans :', solution.maxProfit([7,1,5,3,6,4]))\n",
    "print('ans :', solution.maxProfit([7,2,6,3,1,6,4]))\n",
    "print('ans :', solution.maxProfit([1,6,4,3,1]))\n",
    "\n",
    "\n",
    "# TODO\n",
    "# Manacher Algorithm"
   ]
  },
  {
   "cell_type": "markdown",
   "metadata": {},
   "source": [
    "但是动态规划不一定是最合适的，因为动态规划会把所有的可能情况算一遍，所以反而用递归的方式会好一点"
   ]
  },
  {
   "cell_type": "code",
   "execution_count": null,
   "metadata": {},
   "outputs": [],
   "source": []
  }
 ],
 "metadata": {
  "kernelspec": {
   "display_name": "Python 3",
   "language": "python",
   "name": "python3"
  },
  "language_info": {
   "codemirror_mode": {
    "name": "ipython",
    "version": 3
   },
   "file_extension": ".py",
   "mimetype": "text/x-python",
   "name": "python",
   "nbconvert_exporter": "python",
   "pygments_lexer": "ipython3",
   "version": "3.7.0"
  }
 },
 "nbformat": 4,
 "nbformat_minor": 2
}
