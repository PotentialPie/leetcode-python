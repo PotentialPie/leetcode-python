{
 "cells": [
  {
   "cell_type": "markdown",
   "metadata": {},
   "source": [
    "### 117. Populating Next Right Pointers in Each Node II\n",
    "\n",
    "和116问题一样，只不过不是完全二叉树了\n",
    "\n",
    "```\n",
    "struct Node {\n",
    "  int val;\n",
    "  Node *left;\n",
    "  Node *right;\n",
    "  Node *next;\n",
    "}\n",
    "```\n",
    "\n",
    "\n",
    "\n",
    "**思路**\n",
    "- 队列方法\n",
    "- 逐层遍历\n"
   ]
  },
  {
   "cell_type": "markdown",
   "metadata": {},
   "source": [
    "## 第一种是队列方法"
   ]
  },
  {
   "cell_type": "code",
   "execution_count": 1,
   "metadata": {},
   "outputs": [],
   "source": [
    "\"\"\"\n",
    "# Definition for a Node.\n",
    "class Node(object):\n",
    "    def __init__(self, val, left, right, next):\n",
    "        self.val = val\n",
    "        self.left = left\n",
    "        self.right = right\n",
    "        self.next = next\n",
    "\"\"\"\n",
    "from collections import deque\n",
    "class Solution(object):\n",
    "    def connect(self, root):\n",
    "        \"\"\"\n",
    "        :type root: Node\n",
    "        :rtype: Node\n",
    "        \"\"\"\n",
    "\n",
    "        if not root:\n",
    "            return root\n",
    "        \n",
    "        tmp_height = 1\n",
    "        stack = deque()\n",
    "        stack.append((root,1))\n",
    "        \n",
    "        while stack:\n",
    "            #print(len(stack))\n",
    "            behind_node = None\n",
    "            # 这一步要判断队列为空，不然就白瞎了\n",
    "            while stack and stack[0][1] == tmp_height :\n",
    "                node = stack.popleft()\n",
    "                node[0].next = behind_node\n",
    "                behind_node = node[0]\n",
    "                if node[0].right:\n",
    "                    stack.append((node[0].right, tmp_height+1))\n",
    "                if node[0].left:\n",
    "                    stack.append((node[0].left, tmp_height+1))\n",
    "            tmp_height += 1\n",
    "        \n",
    "        return root\n",
    "            "
   ]
  },
  {
   "cell_type": "markdown",
   "metadata": {},
   "source": [
    "## 逐层双队列解法"
   ]
  },
  {
   "cell_type": "code",
   "execution_count": 3,
   "metadata": {},
   "outputs": [],
   "source": [
    "\"\"\"\n",
    "# Definition for a Node.\n",
    "class Node(object):\n",
    "    def __init__(self, val, left, right, next):\n",
    "        self.val = val\n",
    "        self.left = left\n",
    "        self.right = right\n",
    "        self.next = next\n",
    "\"\"\"\n",
    "class Solution:\n",
    "    def connect(self, root):\n",
    "        \n",
    "        if not root:\n",
    "            return root\n",
    "        \n",
    "        if not root.left and not root.right:\n",
    "            return root\n",
    "        \n",
    "        level = [root]\n",
    "        \n",
    "        while level:\n",
    "            \n",
    "            queue = []\n",
    "            for node in level:                \n",
    "                if node.left:\n",
    "                    queue.append(node.left)\n",
    "                \n",
    "                if node.right:\n",
    "                    queue.append(node.right)\n",
    "            \n",
    "            for i in range(len(queue)-1):\n",
    "                queue[i].next = queue[i+1]\n",
    "            \n",
    "            \n",
    "            level = queue \n",
    "        return root\n",
    "            "
   ]
  },
  {
   "cell_type": "markdown",
   "metadata": {},
   "source": [
    "## 逐层遍历"
   ]
  },
  {
   "cell_type": "code",
   "execution_count": 3,
   "metadata": {},
   "outputs": [],
   "source": [
    "\"\"\"\n",
    "# Definition for a Node.\n",
    "class Node(object):\n",
    "    def __init__(self, val, left, right, next):\n",
    "        self.val = val\n",
    "        self.left = left\n",
    "        self.right = right\n",
    "        self.next = next\n",
    "\"\"\"\n",
    "from collections import deque\n",
    "class Solution(object):\n",
    "    def connect(self, root):\n",
    "        \"\"\"\n",
    "        :type root: Node\n",
    "        :rtype: Node\n",
    "        \"\"\"\n",
    "\n",
    "        if not root:\n",
    "            return root\n",
    "        \n",
    "        above = root\n",
    "        while above.left:\n",
    "            cur = above\n",
    "            while cur:\n",
    "                cur.left.next = cur.right\n",
    "                if cur.next:\n",
    "                    cur.right.next = cur.next.left\n",
    "                cur = cur.next\n",
    "            above = above.left\n",
    "        return root         "
   ]
  },
  {
   "cell_type": "code",
   "execution_count": null,
   "metadata": {},
   "outputs": [],
   "source": []
  }
 ],
 "metadata": {
  "kernelspec": {
   "display_name": "Python 3",
   "language": "python",
   "name": "python3"
  },
  "language_info": {
   "codemirror_mode": {
    "name": "ipython",
    "version": 3
   },
   "file_extension": ".py",
   "mimetype": "text/x-python",
   "name": "python",
   "nbconvert_exporter": "python",
   "pygments_lexer": "ipython3",
   "version": "3.6.6"
  }
 },
 "nbformat": 4,
 "nbformat_minor": 2
}
