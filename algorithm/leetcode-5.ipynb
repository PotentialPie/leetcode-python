{
 "cells": [
  {
   "cell_type": "markdown",
   "metadata": {},
   "source": [
    "### 5. Longest Palindromic Substring\n",
    "Given a string s, find the longest palindromic substring in s. You may assume that the maximum length of s is 1000.\n",
    "\n",
    "**Example1:**\n",
    "\n",
    "```\n",
    "Input: \"babad\"\n",
    "Output: \"bab\"\n",
    "Note: \"aba\" is also a valid answer.\n",
    "```\n",
    "**Example2:**\n",
    "\n",
    "```\n",
    "Input: \"cbbd\"\n",
    "Output: \"bb\"\n",
    "```\n",
    "\n",
    "**思路**\n",
    "- 定义一个二维数组dp[len(s)][len(s)]，dp[i][j]标志i到j是否为回文。\n",
    "- 初始化：dp[i][i]全是1，如果s[i]=s[i+1]，则dp[i][i+1]为1，其余全部初始化为0\n",
    "- 状态转移方程：如果s[i]==s[j]，dp[i][j] = dp[i+1][j-1]；否则为0\n",
    "\n",
    "**注意点**\n",
    "\n",
    "dp_c的初始化方式:\n",
    "```\n",
    "# dp_c = [[0] * len_s] * len_s\n",
    "dp_c = [[0 for i in range(len_s)] for i in range(len_s)]\n",
    "```"
   ]
  },
  {
   "cell_type": "code",
   "execution_count": 7,
   "metadata": {},
   "outputs": [],
   "source": [
    "class Solution:\n",
    "    def longestPalindrome(self, s):\n",
    "        \"\"\"\n",
    "        :type s: str\n",
    "        :rtype: str\n",
    "        \"\"\"\n",
    "        max_len = 1\n",
    "        max_i = 0\n",
    "        max_j = 0\n",
    "        len_s = len(s)\n",
    "        # that wrong!!\n",
    "        # dp_c = [[0] * len_s] * len_s\n",
    "        dp_c = [[0 for i in range(len_s)] for i in range(len_s)]\n",
    "        #print(dp_c)\n",
    "        for i in range(len_s):\n",
    "            dp_c[i][i] = 1\n",
    "            #print(dp_c)\n",
    "            if i < len_s - 1 and s[i] == s[i + 1]:\n",
    "                #print(i)\n",
    "                dp_c[i][i + 1] = 1\n",
    "                max_len = 2\n",
    "                max_i = i\n",
    "                max_j = i + 1\n",
    "        #print(dp_c)\n",
    "        for i in range(3, len_s + 1):\n",
    "            for j in range(0, len_s - i + 1):\n",
    "                if s[j] == s[j + i - 1]:\n",
    "                    #print(i, j)\n",
    "                    dp_c[j][j + i - 1] = dp_c[j + 1][j + i - 2]\n",
    "                    #print(dp_c[j + 1][j + i - 2])\n",
    "                    if dp_c[j][j + i - 1] != 0:\n",
    "                        max_len = i\n",
    "                        max_i = j\n",
    "                        max_j = j + i - 1\n",
    "        return s[max_i:max_j + 1]"
   ]
  },
  {
   "cell_type": "code",
   "execution_count": 8,
   "metadata": {},
   "outputs": [
    {
     "name": "stdout",
     "output_type": "stream",
     "text": [
      "ans : \n",
      "ans : a\n",
      "ans : a\n",
      "ans : bb\n",
      "ans : bab\n",
      "ans : a\n"
     ]
    }
   ],
   "source": [
    "import time\n",
    "solution = Solution()\n",
    "\n",
    "print('ans :', solution.longestPalindrome(''))\n",
    "print('ans :', solution.longestPalindrome('a'))\n",
    "print('ans :', solution.longestPalindrome('ab'))\n",
    "print('ans :', solution.longestPalindrome('bb'))\n",
    "print('ans :', solution.longestPalindrome('bab'))\n",
    "print('ans :', solution.longestPalindrome('abcda'))\n",
    "\n",
    "# TODO\n",
    "# Manacher Algorithm"
   ]
  },
  {
   "cell_type": "code",
   "execution_count": null,
   "metadata": {},
   "outputs": [],
   "source": []
  }
 ],
 "metadata": {
  "kernelspec": {
   "display_name": "Python 3",
   "language": "python",
   "name": "python3"
  },
  "language_info": {
   "codemirror_mode": {
    "name": "ipython",
    "version": 3
   },
   "file_extension": ".py",
   "mimetype": "text/x-python",
   "name": "python",
   "nbconvert_exporter": "python",
   "pygments_lexer": "ipython3",
   "version": "3.6.6"
  }
 },
 "nbformat": 4,
 "nbformat_minor": 2
}
